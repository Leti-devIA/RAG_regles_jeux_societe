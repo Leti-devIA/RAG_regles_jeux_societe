{
 "cells": [
  {
   "cell_type": "code",
   "execution_count": 1,
   "id": "dacbfac6",
   "metadata": {},
   "outputs": [],
   "source": [
    "# 🔍 Extraction PDF et découpage du texte\n",
    "from pypdf import PdfReader\n",
    "\n",
    "def extract_text_from_pdf(file_path):\n",
    "    reader = PdfReader(file_path)\n",
    "    return \" \".join(page.extract_text() or \"\" for page in reader.pages)\n",
    "\n",
    "def split_text(text, max_length=500):\n",
    "    sentences = text.split(\". \")\n",
    "    chunks, chunk = [], \"\"\n",
    "    for sentence in sentences:\n",
    "        if len(chunk) + len(sentence) < max_length:\n",
    "            chunk += sentence + \". \"\n",
    "        else:\n",
    "            chunks.append(chunk.strip())\n",
    "            chunk = sentence + \". \"\n",
    "    if chunk:\n",
    "        chunks.append(chunk.strip())\n",
    "    return chunks\n",
    "\n",
    "def clean_chunk(chunk):\n",
    "    return chunk.replace(\"\\xa0\", \" \").replace(\"\\n\", \" \").strip()\n"
   ]
  },
  {
   "cell_type": "code",
   "execution_count": 2,
   "id": "59d3ab9e",
   "metadata": {},
   "outputs": [
    {
     "name": "stdout",
     "output_type": "stream",
     "text": [
      "✅ 40 morceaux extraits.\n"
     ]
    }
   ],
   "source": [
    "# 📄 Lecture du PDF et préparation des chunks\n",
    "pdf_path = \"data/loups_garous.pdf\"\n",
    "raw_text = extract_text_from_pdf(pdf_path)\n",
    "chunks = split_text(raw_text)\n",
    "print(f\"✅ {len(chunks)} morceaux extraits.\")\n"
   ]
  },
  {
   "cell_type": "code",
   "execution_count": 3,
   "id": "5dafa522",
   "metadata": {},
   "outputs": [
    {
     "name": "stderr",
     "output_type": "stream",
     "text": [
      "c:\\Users\\laeti\\OneDrive\\Documents\\Formation Dev IA - GRETA\\Nin\\venv\\Lib\\site-packages\\tqdm\\auto.py:21: TqdmWarning: IProgress not found. Please update jupyter and ipywidgets. See https://ipywidgets.readthedocs.io/en/stable/user_install.html\n",
      "  from .autonotebook import tqdm as notebook_tqdm\n"
     ]
    }
   ],
   "source": [
    "# 🔡 Embedding des textes + FAISS\n",
    "from sentence_transformers import SentenceTransformer\n",
    "import faiss\n",
    "import numpy as np\n",
    "\n",
    "embedder = SentenceTransformer(\"sentence-transformers/paraphrase-multilingual-MiniLM-L12-v2\")\n",
    "corpus_embeddings = embedder.encode(chunks, convert_to_numpy=True)\n",
    "\n",
    "index = faiss.IndexFlatL2(corpus_embeddings.shape[1])\n",
    "index.add(corpus_embeddings)\n"
   ]
  },
  {
   "cell_type": "code",
   "execution_count": 4,
   "id": "d4f75a63",
   "metadata": {},
   "outputs": [
    {
     "name": "stderr",
     "output_type": "stream",
     "text": [
      "Some parameters are on the meta device because they were offloaded to the cpu and disk.\n"
     ]
    }
   ],
   "source": [
    "# 🤖 Chargement du modèle Mistral-7B-Instruct-v0.2\n",
    "from transformers import AutoTokenizer, AutoModelForCausalLM\n",
    "import torch\n",
    "\n",
    "model_name = \"Qwen/Qwen3-0.6B\"\n",
    "tokenizer = AutoTokenizer.from_pretrained(model_name)\n",
    "model = AutoModelForCausalLM.from_pretrained(\n",
    "    model_name, \n",
    "    torch_dtype=torch.float16,\n",
    "    device_map=\"auto\"\n",
    ")\n"
   ]
  },
  {
   "cell_type": "code",
   "execution_count": 5,
   "id": "31a4ba31",
   "metadata": {},
   "outputs": [
    {
     "name": "stdout",
     "output_type": "stream",
     "text": [
      "* Running on local URL:  http://127.0.0.1:7860\n",
      "* To create a public link, set `share=True` in `launch()`.\n"
     ]
    },
    {
     "data": {
      "text/html": [
       "<div><iframe src=\"http://127.0.0.1:7860/\" width=\"100%\" height=\"500\" allow=\"autoplay; camera; microphone; clipboard-read; clipboard-write;\" frameborder=\"0\" allowfullscreen></iframe></div>"
      ],
      "text/plain": [
       "<IPython.core.display.HTML object>"
      ]
     },
     "metadata": {},
     "output_type": "display_data"
    },
    {
     "data": {
      "text/plain": []
     },
     "execution_count": 5,
     "metadata": {},
     "output_type": "execute_result"
    }
   ],
   "source": [
    "import gradio as gr\n",
    "\n",
    "def generate_response(question):\n",
    "    q_embedding = embedder.encode([question], convert_to_numpy=True)\n",
    "    D, I = index.search(q_embedding, k=5)\n",
    "    \n",
    "    top_chunks = [clean_chunk(chunks[i]) for i in I[0]]\n",
    "    context = \" \".join(top_chunks)\n",
    "    \n",
    "    prompt = f\"\"\"\n",
    "Tu es un expert des règles de jeux de société. Ci-dessous se trouve un extrait du manuel de règles.\n",
    "\n",
    "Contexte extrait du manuel :\n",
    "{context}\n",
    "\n",
    "Question posée par un joueur :\n",
    "{question}\n",
    "\n",
    "Réponds précisément et clairement en te basant uniquement sur ce contexte. Si la réponse n’est pas dans le texte, indique-le poliment. Sois pédagogique et clair.\n",
    "\"\"\"\n",
    "    \n",
    "    inputs = tokenizer(prompt, return_tensors=\"pt\", truncation=True, max_length=2048).to(model.device)\n",
    "\n",
    "    with torch.no_grad():\n",
    "        outputs = model.generate(\n",
    "            **inputs,\n",
    "            max_new_tokens=200,\n",
    "            temperature=0.7,\n",
    "            top_p=0.9,\n",
    "            do_sample=True,\n",
    "            num_beams=1\n",
    "        )\n",
    "    \n",
    "    response = tokenizer.decode(outputs[0][inputs.input_ids.shape[1]:], skip_special_tokens=True)\n",
    "    used_chunks = \"\\n\\n\".join(f\"[Chunk {i+1}]\\n{chunks[i]}\" for i in I[0])\n",
    "    \n",
    "    return response.strip(), used_chunks\n",
    "\n",
    "# 🔧 Interface Gradio adaptée\n",
    "iface = gr.Interface(\n",
    "    fn=generate_response,\n",
    "    inputs=gr.Textbox(lines=2, placeholder=\"Exemple : Que se passe-t-il si deux joueurs ont le même nombre de votes ?\", label=\"Question sur une règle du jeu\"),\n",
    "    outputs=[\n",
    "        gr.Textbox(label=\"Réponse claire à votre question\"),\n",
    "        gr.Textbox(label=\"Extraits du manuel utilisés (pour transparence)\")\n",
    "    ],\n",
    "    title=\"Assistant Règles - Jeu de Société\",\n",
    "    description=\"Posez une question sur une règle que vous ne comprenez pas, et l'assistant vous explique simplement à partir du manuel.\"\n",
    ")\n",
    "\n",
    "iface.launch()\n"
   ]
  }
 ],
 "metadata": {
  "kernelspec": {
   "display_name": "venv",
   "language": "python",
   "name": "python3"
  },
  "language_info": {
   "codemirror_mode": {
    "name": "ipython",
    "version": 3
   },
   "file_extension": ".py",
   "mimetype": "text/x-python",
   "name": "python",
   "nbconvert_exporter": "python",
   "pygments_lexer": "ipython3",
   "version": "3.11.0"
  }
 },
 "nbformat": 4,
 "nbformat_minor": 5
}
